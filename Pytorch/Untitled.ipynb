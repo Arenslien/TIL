{
 "cells": [
  {
   "cell_type": "markdown",
   "id": "5a028a8d-ece5-4ca0-b2bb-335c6ebed9c8",
   "metadata": {
    "tags": []
   },
   "source": [
    "# INTRODUCTION to torch.autograd\n",
    "#### Date : 2023/03/11"
   ]
  },
  {
   "cell_type": "markdown",
   "id": "87c40cb8-7f08-4cb7-97ff-90ff85f3afe6",
   "metadata": {},
   "source": [
    "#### Background\n",
    "- 신경망(Neural Network) : 입력 값에 대해 실행되는 중첩된 함수들의 모음(collection)\n",
    "- 이 함수들은 pytorch에서 tensor로 저장되는 매개변수(weight, bias)들로 정의됨\n",
    "\n",
    "##### 신경망 학습 단계\n",
    "- 순전파(Forward Propagation) : 해당 단계에서 신경망은 정답을 맞추기 위해 입력 데이터에 대한 함수를 실행합니다.\n",
    "- 역전파(Backward Propagation) : 추측한 값에서 발생한 오류에 비례하여 매개변수들을 조절합니다. 출력으로부터 역방향으로 이동하면서 오류에 대한 함수 매개변수들의 미분값(gradient)를 수집해 경사하강법을 사용하여 매개변수를 최적화합니다."
   ]
  },
  {
   "cell_type": "code",
   "execution_count": 3,
   "id": "a7657285-b718-4f13-94d1-d4cb618c55c1",
   "metadata": {},
   "outputs": [],
   "source": [
    "# 0. Import Library\n",
    "import torch\n",
    "from torchvision.models import resnet18, ResNet18_Weights # 미리 학습된 모델\n",
    "\n",
    "model = resnet18(weights=ResNet18_Weights.DEFAULT)\n",
    "data = torch.rand(1, 3, 64, 64)\n",
    "labels = torch.rand(1, 1000)"
   ]
  },
  {
   "cell_type": "code",
   "execution_count": 4,
   "id": "ab90e715-191b-4d34-a845-605e9bdc810f",
   "metadata": {},
   "outputs": [],
   "source": [
    "# predict\n",
    "prediction = model(data)"
   ]
  },
  {
   "cell_type": "code",
   "execution_count": 6,
   "id": "e318771e-b30a-444d-b716-bc6f193dd64b",
   "metadata": {},
   "outputs": [],
   "source": [
    "loss = (prediction - labels).sum()\n",
    "loss.backward() # 역전파 단계"
   ]
  },
  {
   "cell_type": "code",
   "execution_count": 7,
   "id": "ff5bf0b3-9d10-4c49-a2da-e46fabb7f42f",
   "metadata": {},
   "outputs": [],
   "source": [
    "optim = torch.optim.SGD(model.parameters(), lr=1e-2, momentum=0.9)"
   ]
  },
  {
   "cell_type": "code",
   "execution_count": 8,
   "id": "47a1f8b4-8c08-43ab-9ef1-cabef625f664",
   "metadata": {},
   "outputs": [],
   "source": [
    "optim.step()"
   ]
  },
  {
   "cell_type": "code",
   "execution_count": null,
   "id": "77895d2c-5c24-46fc-8cfc-eb0e9cdc6bc9",
   "metadata": {},
   "outputs": [],
   "source": []
  }
 ],
 "metadata": {
  "kernelspec": {
   "display_name": "Python 3.8 & pytorch",
   "language": "python",
   "name": "study_env"
  },
  "language_info": {
   "codemirror_mode": {
    "name": "ipython",
    "version": 3
   },
   "file_extension": ".py",
   "mimetype": "text/x-python",
   "name": "python",
   "nbconvert_exporter": "python",
   "pygments_lexer": "ipython3",
   "version": "3.8.16"
  }
 },
 "nbformat": 4,
 "nbformat_minor": 5
}
