{
 "cells": [
  {
   "cell_type": "markdown",
   "id": "8593c4bc-ed34-417c-9c05-e3d59c02436a",
   "metadata": {},
   "source": [
    "# Pytorch Tensor"
   ]
  },
  {
   "cell_type": "markdown",
   "id": "f2f7cb83-0cc6-4f37-8309-016f70bc64b0",
   "metadata": {},
   "source": [
    "#### 0. Import Library"
   ]
  },
  {
   "cell_type": "code",
   "execution_count": 2,
   "id": "c774aa07-e21f-42e1-84dc-3d8ebd075b48",
   "metadata": {},
   "outputs": [
    {
     "name": "stderr",
     "output_type": "stream",
     "text": [
      "/home/ibo703/anaconda3/envs/Study/lib/python3.8/site-packages/tqdm/auto.py:22: TqdmWarning: IProgress not found. Please update jupyter and ipywidgets. See https://ipywidgets.readthedocs.io/en/stable/user_install.html\n",
      "  from .autonotebook import tqdm as notebook_tqdm\n"
     ]
    }
   ],
   "source": [
    "import torch\n",
    "import numpy as np"
   ]
  },
  {
   "cell_type": "markdown",
   "id": "067c7c9c-c345-41d2-b684-1b8b6d08fa67",
   "metadata": {},
   "source": [
    "#### 1. Tensor\n",
    "- Tensor : Pytorch에서 사용하는 자료구조로서 배열, 행렬과 유사하다."
   ]
  },
  {
   "cell_type": "markdown",
   "id": "814c44c1-d481-463d-a72b-f5a7a833f8d2",
   "metadata": {},
   "source": [
    "#### 2. How to generate a Tensor"
   ]
  },
  {
   "cell_type": "code",
   "execution_count": 10,
   "id": "959ee0cd-356f-4fbd-9ff6-cc2720fbab50",
   "metadata": {},
   "outputs": [
    {
     "name": "stdout",
     "output_type": "stream",
     "text": [
      "tensor([[1, 2],\n",
      "        [3, 4],\n",
      "        [5, 6]])\n"
     ]
    }
   ],
   "source": [
    "# 1. 직접 데이터로부터 Tensor 생성하기\n",
    "data = [[1, 2], [3, 4], [5, 6]]\n",
    "t_from_data = torch.tensor(data)\n",
    "print(t_from_data)"
   ]
  },
  {
   "cell_type": "code",
   "execution_count": 12,
   "id": "a3d84b7e-7085-4df0-b656-924c0b14cb79",
   "metadata": {},
   "outputs": [
    {
     "name": "stdout",
     "output_type": "stream",
     "text": [
      "tensor([[1, 2],\n",
      "        [3, 4],\n",
      "        [5, 6]])\n"
     ]
    }
   ],
   "source": [
    "# 2. Numpy로부터 Tensor 생성하기\n",
    "np_array1 = np.array(data)\n",
    "t_from_np = torch.from_numpy(np_array1)\n",
    "print(t_from_np)"
   ]
  },
  {
   "cell_type": "code",
   "execution_count": 16,
   "id": "4a797ecf-7908-48c8-94d8-531bb91f8966",
   "metadata": {},
   "outputs": [
    {
     "name": "stdout",
     "output_type": "stream",
     "text": [
      "tensor([[1, 1],\n",
      "        [1, 1],\n",
      "        [1, 1]])\n",
      "tensor([[0, 0],\n",
      "        [0, 0],\n",
      "        [0, 0]])\n"
     ]
    }
   ],
   "source": [
    "# 3. 다른 Tensor로부터 생성하기 --> 다른 텐서처럼 생성하기\n",
    "t_from_t = torch.ones_like(t_from_np)\n",
    "print(t_from_t)\n",
    "t_from_t = torch.zeros_like(t_from_np)\n",
    "print(t_from_t)"
   ]
  },
  {
   "cell_type": "code",
   "execution_count": 30,
   "id": "6201b58e-84da-4c09-bdae-950d9a9893dd",
   "metadata": {},
   "outputs": [
    {
     "name": "stdout",
     "output_type": "stream",
     "text": [
      "Random Tensor :\n",
      "tensor([[0.5465, 0.2265, 0.3148, 0.6034],\n",
      "        [0.9433, 0.7936, 0.7755, 0.9546],\n",
      "        [0.0693, 0.6017, 0.6095, 0.5373],\n",
      "        [0.1426, 0.9145, 0.5400, 0.5442]]) \n",
      "\n",
      "Ones Tensor :\n",
      "tensor([[1., 1., 1., 1.],\n",
      "        [1., 1., 1., 1.],\n",
      "        [1., 1., 1., 1.],\n",
      "        [1., 1., 1., 1.]]) \n",
      "\n",
      "Zeros Tensor : \n",
      "tensor([[0., 0., 0., 0.],\n",
      "        [0., 0., 0., 0.],\n",
      "        [0., 0., 0., 0.],\n",
      "        [0., 0., 0., 0.]]) \n",
      "\n"
     ]
    }
   ],
   "source": [
    "# 4. 랜덤 or 상수 값 사용해 생성하기\n",
    "shape = [4, 4]\n",
    "\n",
    "t_from_rand = torch.rand(shape)\n",
    "print(f\"Random Tensor :\\n{t_from_rand} \\n\")\n",
    "\n",
    "t_from_ones = torch.ones(shape)\n",
    "print(f\"Ones Tensor :\\n{t_from_ones} \\n\")\n",
    "\n",
    "t_from_zeros = torch.zeros(shape)\n",
    "print(f\"Zeros Tensor : \\n{t_from_zeros} \\n\")"
   ]
  },
  {
   "cell_type": "markdown",
   "id": "7c65aa29-6f3e-47d7-9957-1e4d4276e825",
   "metadata": {},
   "source": [
    "#### 3. Tensor's Attribute"
   ]
  },
  {
   "cell_type": "code",
   "execution_count": 32,
   "id": "e6a33190-f665-4f49-8f08-c805fce2db37",
   "metadata": {},
   "outputs": [
    {
     "name": "stdout",
     "output_type": "stream",
     "text": [
      "tensor.shape = torch.Size([2, 2])\n",
      "tensor.dtype = torch.int64\n",
      "tensor.device = cpu\n"
     ]
    }
   ],
   "source": [
    "# Tensor's Attribute\n",
    "np_array2 = np.array([[1, 2], [3, 4]])\n",
    "t2_from_np = torch.from_numpy(np_array2)\n",
    "\n",
    "print(f\"tensor.shape = {t2_from_np.shape}\") # shape\n",
    "print(f\"tensor.dtype = {t2_from_np.dtype}\") # data type\n",
    "print(f\"tensor.device = {t2_from_np.device}\") # device(cpu or cuda)"
   ]
  },
  {
   "cell_type": "markdown",
   "id": "a3323d55-4db4-4568-ae86-133d2728e7db",
   "metadata": {},
   "source": [
    "#### 4. Tensor Operation"
   ]
  },
  {
   "cell_type": "code",
   "execution_count": 53,
   "id": "a4513e46-6534-4c43-a228-84df7b031c8c",
   "metadata": {},
   "outputs": [
    {
     "name": "stdout",
     "output_type": "stream",
     "text": [
      "t.device = cuda:2\n",
      "tensor : \n",
      "tensor([[1., 1., 1., 1.],\n",
      "        [1., 1., 1., 1.],\n",
      "        [1., 1., 1., 1.],\n",
      "        [1., 1., 1., 1.]], device='cuda:2')\n"
     ]
    }
   ],
   "source": [
    "# 0. CUDA SETTING\n",
    "tensor = torch.ones([4, 4])\n",
    "if torch.cuda.is_available():\n",
    "    t = tensor.to('cuda:2')\n",
    "else:\n",
    "    t = tensor.to('cpu')\n",
    "\n",
    "print(f\"t.device = {t.device}\")\n",
    "print(f\"tensor : \\n{t}\")"
   ]
  },
  {
   "cell_type": "code",
   "execution_count": 54,
   "id": "956c5428-172f-4d9b-9c53-22a792deb74a",
   "metadata": {},
   "outputs": [
    {
     "name": "stdout",
     "output_type": "stream",
     "text": [
      "tensor([[1., 1., 0., 1.],\n",
      "        [1., 1., 0., 1.],\n",
      "        [1., 1., 0., 1.],\n",
      "        [1., 1., 0., 1.]], device='cuda:2')\n"
     ]
    }
   ],
   "source": [
    "# 1. Indexing & Slicing\n",
    "t[:, 2] = 0 \n",
    "print(t)"
   ]
  },
  {
   "cell_type": "code",
   "execution_count": 55,
   "id": "89502ad9-f1fb-4de3-b5fd-616e315f991a",
   "metadata": {},
   "outputs": [
    {
     "data": {
      "text/plain": [
       "tensor([[1., 1., 0., 1., 1., 1., 0., 1.],\n",
       "        [1., 1., 0., 1., 1., 1., 0., 1.],\n",
       "        [1., 1., 0., 1., 1., 1., 0., 1.],\n",
       "        [1., 1., 0., 1., 1., 1., 0., 1.]], device='cuda:2')"
      ]
     },
     "execution_count": 55,
     "metadata": {},
     "output_type": "execute_result"
    }
   ],
   "source": [
    "# 2. Concatenate\n",
    "t1 = torch.cat([t, t], dim=1)\n",
    "t1"
   ]
  },
  {
   "cell_type": "code",
   "execution_count": 62,
   "id": "5ecc5495-498e-4005-9a53-77e7f0c7433f",
   "metadata": {},
   "outputs": [
    {
     "name": "stdout",
     "output_type": "stream",
     "text": [
      "tensor([[1., 1., 0., 1.],\n",
      "        [1., 1., 0., 1.],\n",
      "        [1., 1., 0., 1.],\n",
      "        [1., 1., 0., 1.]], device='cuda:2')\n",
      "tensor([[1., 1., 0., 1.],\n",
      "        [1., 1., 0., 1.],\n",
      "        [1., 1., 0., 1.],\n",
      "        [1., 1., 0., 1.]], device='cuda:2')\n",
      "tensor([[3., 3., 0., 3.],\n",
      "        [3., 3., 0., 3.],\n",
      "        [3., 3., 0., 3.],\n",
      "        [3., 3., 0., 3.]], device='cuda:2')\n",
      "tensor([[3., 3., 0., 3.],\n",
      "        [3., 3., 0., 3.],\n",
      "        [3., 3., 0., 3.],\n",
      "        [3., 3., 0., 3.]], device='cuda:2')\n"
     ]
    }
   ],
   "source": [
    "# 3. Multipy\n",
    "\n",
    "# element-wise product\n",
    "t2 = t * t\n",
    "print(t2)\n",
    "t2 = t.mul(t)\n",
    "print(t2)\n",
    "\n",
    "\n",
    "# matrix multiplication\n",
    "t3 = t @ t\n",
    "print(t3)\n",
    "\n",
    "t3 = t.matmul(t)\n",
    "print(t3)"
   ]
  },
  {
   "cell_type": "code",
   "execution_count": 63,
   "id": "723a5f02-6727-459e-bee3-949c497fd354",
   "metadata": {},
   "outputs": [
    {
     "name": "stdout",
     "output_type": "stream",
     "text": [
      "tensor([[6., 6., 5., 6.],\n",
      "        [6., 6., 5., 6.],\n",
      "        [6., 6., 5., 6.],\n",
      "        [6., 6., 5., 6.]], device='cuda:2')\n"
     ]
    }
   ],
   "source": [
    "# 4. In-place\n",
    "t4 = t.add_(5)\n",
    "print(t4)"
   ]
  },
  {
   "cell_type": "markdown",
   "id": "7443b625-819f-451d-866e-63bb07717b37",
   "metadata": {},
   "source": [
    "#### 5. Numpy Bridge"
   ]
  },
  {
   "cell_type": "code",
   "execution_count": 68,
   "id": "53dce891-7584-498b-9cfe-03f9a45e10b2",
   "metadata": {},
   "outputs": [
    {
     "name": "stdout",
     "output_type": "stream",
     "text": [
      "[1. 1. 1. 1. 1.]\n",
      "tensor([1., 1., 1., 1., 1.])\n"
     ]
    }
   ],
   "source": [
    "tensor = torch.ones(5)\n",
    "\n",
    "np_array = tensor.numpy() # CPU여야 가능?\n",
    "print(np_array)\n",
    "\n",
    "tensor2 = torch.from_numpy(np_array)\n",
    "print(tensor2)"
   ]
  },
  {
   "cell_type": "code",
   "execution_count": null,
   "id": "3712dabd-3d11-413c-9643-bf73a0bed9f0",
   "metadata": {},
   "outputs": [],
   "source": []
  }
 ],
 "metadata": {
  "kernelspec": {
   "display_name": "Python 3.8 & pytorch",
   "language": "python",
   "name": "study_env"
  },
  "language_info": {
   "codemirror_mode": {
    "name": "ipython",
    "version": 3
   },
   "file_extension": ".py",
   "mimetype": "text/x-python",
   "name": "python",
   "nbconvert_exporter": "python",
   "pygments_lexer": "ipython3",
   "version": "3.8.16"
  }
 },
 "nbformat": 4,
 "nbformat_minor": 5
}
